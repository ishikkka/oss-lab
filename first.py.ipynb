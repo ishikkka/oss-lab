{
 "cells": [
  {
   "cell_type": "code",
   "execution_count": 1,
   "metadata": {},
   "outputs": [],
   "source": [
    "import numpy as np\n",
    "import matplotlib.pyplot as plt"
   ]
  },
  {
   "cell_type": "code",
   "execution_count": 2,
   "metadata": {},
   "outputs": [],
   "source": [
    "cities = np.array(['City X','City Y', 'City Z'])"
   ]
  },
  {
   "cell_type": "code",
   "execution_count": 3,
   "metadata": {},
   "outputs": [
    {
     "data": {
      "text/plain": [
       "array(['City X', 'City Y', 'City Z'], dtype='<U6')"
      ]
     },
     "execution_count": 3,
     "metadata": {},
     "output_type": "execute_result"
    }
   ],
   "source": [
    "cities"
   ]
  },
  {
   "cell_type": "code",
   "execution_count": 4,
   "metadata": {},
   "outputs": [],
   "source": [
    "x = np.array([100,120,85,90,110,95])\n",
    "y = np.array([80,75,60,95,85,90])\n",
    "z = np.array([150,140,135,160,155,170])"
   ]
  },
  {
   "cell_type": "code",
   "execution_count": 5,
   "metadata": {},
   "outputs": [
    {
     "data": {
      "text/plain": [
       "(array([100, 120,  85,  90, 110,  95]),\n",
       " array([80, 75, 60, 95, 85, 90]),\n",
       " array([150, 140, 135, 160, 155, 170]))"
      ]
     },
     "execution_count": 5,
     "metadata": {},
     "output_type": "execute_result"
    }
   ],
   "source": [
    "x,y,z"
   ]
  },
  {
   "cell_type": "code",
   "execution_count": 64,
   "metadata": {},
   "outputs": [],
   "source": [
    "xyz = np.array((x,y,z))"
   ]
  },
  {
   "cell_type": "code",
   "execution_count": 65,
   "metadata": {},
   "outputs": [
    {
     "data": {
      "text/plain": [
       "array([[100, 120,  85,  90, 110,  95],\n",
       "       [ 80,  75,  60,  95,  85,  90],\n",
       "       [150, 140, 135, 160, 155, 170]])"
      ]
     },
     "execution_count": 65,
     "metadata": {},
     "output_type": "execute_result"
    }
   ],
   "source": [
    "xyz"
   ]
  },
  {
   "cell_type": "code",
   "execution_count": 15,
   "metadata": {},
   "outputs": [
    {
     "name": "stdout",
     "output_type": "stream",
     "text": [
      "Total rainfall for city x : 600\n",
      "Total rainfall for city y : 485\n",
      "Total rainfall for city z : 910\n"
     ]
    }
   ],
   "source": [
    "print(\"Total rainfall for city x :\", np.sum(x))\n",
    "print(\"Total rainfall for city y :\", np.sum(y))\n",
    "print(\"Total rainfall for city z :\", np.sum(z))"
   ]
  },
  {
   "cell_type": "code",
   "execution_count": 16,
   "metadata": {},
   "outputs": [
    {
     "name": "stdout",
     "output_type": "stream",
     "text": [
      "Average monthly rainfall for city x : 100.0\n",
      "Average monthly rainfall for city y : 80.83333333333333\n",
      "Average monthly rainfall for city z : 151.66666666666666\n"
     ]
    }
   ],
   "source": [
    "print(\"Average monthly rainfall for city x :\", np.average(x))\n",
    "print(\"Average monthly rainfall for city y :\", np.average(y))\n",
    "print(\"Average monthly rainfall for city z :\", np.average(z))"
   ]
  },
  {
   "cell_type": "code",
   "execution_count": 72,
   "metadata": {},
   "outputs": [],
   "source": [
    "def calculateAvg(arr):\n",
    "    total = 0\n",
    "    for i in arr :\n",
    "        total += i\n",
    "    print(\"Monthly Average Rainfall for 6 months :\", total/len(arr))"
   ]
  },
  {
   "cell_type": "code",
   "execution_count": 73,
   "metadata": {},
   "outputs": [
    {
     "name": "stdout",
     "output_type": "stream",
     "text": [
      "Monthly Average Rainfall for 6 months : 100.0\n"
     ]
    }
   ],
   "source": [
    "calculateAvg(x)"
   ]
  },
  {
   "cell_type": "code",
   "execution_count": 23,
   "metadata": {},
   "outputs": [
    {
     "name": "stdout",
     "output_type": "stream",
     "text": [
      "Monthly Average Rainfall for 6 months : 80.83333333333333\n"
     ]
    }
   ],
   "source": [
    "calculateAvg(y)"
   ]
  },
  {
   "cell_type": "code",
   "execution_count": 24,
   "metadata": {},
   "outputs": [
    {
     "name": "stdout",
     "output_type": "stream",
     "text": [
      "Monthly Average Rainfall for 6 months : 151.66666666666666\n"
     ]
    }
   ],
   "source": [
    "calculateAvg(z)"
   ]
  },
  {
   "cell_type": "code",
   "execution_count": 85,
   "metadata": {},
   "outputs": [
    {
     "data": {
      "text/plain": [
       "Text(0.5, 1.0, 'Rainfall Trend for 6 Months')"
      ]
     },
     "execution_count": 85,
     "metadata": {},
     "output_type": "execute_result"
    },
    {
     "data": {
      "image/png": "[encoded data removed]",
      "text/plain": [
       "<Figure size 432x288 with 1 Axes>"
      ]
     },
     "metadata": {
      "needs_background": "light"
     },
     "output_type": "display_data"
    }
   ],
   "source": [
    "num = np.array([1,2,3,4,5,6])\n",
    "plt.plot(num, x, label=\"city x\", color='r', linewidth=3)\n",
    "plt.plot(num, y, label=\"city y\", color='b', linewidth=3)\n",
    "plt.plot(num, z, label=\"city z\", color='m', linewidth=3)\n",
    "plt.legend(loc='best')\n",
    "plt.xlabel('Months')\n",
    "plt.ylabel('Rainfall (in mm)')\n",
    "plt.title('Rainfall Trend for 6 Months')"
   ]
  },
  {
   "cell_type": "code",
   "execution_count": 89,
   "metadata": {},
   "outputs": [],
   "source": [
    "def calculateRange(arr) :\n",
    "    rng = np.max(arr) - np.min(arr)\n",
    "    print('Range :', rng)\n",
    "    return rng"
   ]
  },
  {
   "cell_type": "code",
   "execution_count": 90,
   "metadata": {},
   "outputs": [
    {
     "name": "stdout",
     "output_type": "stream",
     "text": [
      "Range : 35\n"
     ]
    },
    {
     "data": {
      "text/plain": [
       "35"
      ]
     },
     "execution_count": 90,
     "metadata": {},
     "output_type": "execute_result"
    }
   ],
   "source": [
    "calculateRange(x)"
   ]
  },
  {
   "cell_type": "code",
   "execution_count": 91,
   "metadata": {},
   "outputs": [
    {
     "name": "stdout",
     "output_type": "stream",
     "text": [
      "Range : 35\n"
     ]
    },
    {
     "data": {
      "text/plain": [
       "35"
      ]
     },
     "execution_count": 91,
     "metadata": {},
     "output_type": "execute_result"
    }
   ],
   "source": [
    "calculateRange(y)"
   ]
  },
  {
   "cell_type": "code",
   "execution_count": 92,
   "metadata": {},
   "outputs": [
    {
     "name": "stdout",
     "output_type": "stream",
     "text": [
      "Range : 35\n"
     ]
    },
    {
     "data": {
      "text/plain": [
       "35"
      ]
     },
     "execution_count": 92,
     "metadata": {},
     "output_type": "execute_result"
    }
   ],
   "source": [
    "calculateRange(z)"
   ]
  },
  {
   "cell_type": "code",
   "execution_count": 88,
   "metadata": {},
   "outputs": [
    {
     "data": {
      "text/plain": [
       "Text(0.5, 1.0, 'Rainfall Distribution Comparison')"
      ]
     },
     "execution_count": 88,
     "metadata": {},
     "output_type": "execute_result"
    },
    {
     "data": {
      "image/png": "[encoded data removed]",
      "text/plain": [
       "<Figure size 432x288 with 1 Axes>"
      ]
     },
     "metadata": {
      "needs_background": "light"
     },
     "output_type": "display_data"
    }
   ],
   "source": [
    "plt.bar(num, x, label='City x', color='b')\n",
    "plt.bar(x, y, label='City y', color='r')\n",
    "plt.bar(y, z, label='City z', color='m')\n",
    "plt.legend()\n",
    "plt.xlabel('Months')\n",
    "plt.ylabel('Rainfall (in mm)')\n",
    "plt.title('Rainfall Distribution Comparison')"
   ]
  },
  {
   "cell_type": "code",
   "execution_count": 98,
   "metadata": {},
   "outputs": [
    {
     "name": "stdout",
     "output_type": "stream",
     "text": [
      "Range : 35\n",
      "Range : 35\n",
      "Range : 35\n"
     ]
    },
    {
     "data": {
      "text/plain": [
       "Text(0.5, 1.0, 'Range of Rainfall for each city')"
      ]
     },
     "execution_count": 98,
     "metadata": {},
     "output_type": "execute_result"
    },
    {
     "data": {
      "image/png": "[encoded data removed]",
      "text/plain": [
       "<Figure size 432x288 with 1 Axes>"
      ]
     },
     "metadata": {
      "needs_background": "light"
     },
     "output_type": "display_data"
    }
   ],
   "source": [
    "plt.bar([1], calculateRange(x), label='City x', color='b', linewidth=0.5)\n",
    "plt.bar([2], calculateRange(y), label='City y', color='r',linewidth=0.5)\n",
    "plt.bar([3], calculateRange(z), label='City z', color='m',linewidth=0.5)\n",
    "plt.legend()\n",
    "plt.xlabel('Number')\n",
    "plt.ylabel('Range of Rainfall (in mm)')\n",
    "plt.title('Range of Rainfall for each city')"
   ]
  },
  {
   "cell_type": "code",
   "execution_count": 63,
   "metadata": {},
   "outputs": [
    {
     "data": {
      "text/plain": [
       "Text(0.5, 1.0, 'Rainfall Distribution Graph for City X')"
      ]
     },
     "execution_count": 63,
     "metadata": {},
     "output_type": "execute_result"
    },
    {
     "data": {
      "image/png": "[encoded data removed]",
      "text/plain": [
       "<Figure size 432x288 with 1 Axes>"
      ]
     },
     "metadata": {
      "needs_background": "light"
     },
     "output_type": "display_data"
    }
   ],
   "source": [
    "plt.bar(num, x, label='City x', color='b', linewidth=0.8)\n",
    "plt.legend(loc='upper right')\n",
    "plt.xlabel('Months')\n",
    "plt.ylabel('Rainfall (in mm)')\n",
    "plt.title('Rainfall Distribution Graph for City X')"
   ]
  },
  {
   "cell_type": "code",
   "execution_count": 61,
   "metadata": {},
   "outputs": [
    {
     "data": {
      "text/plain": [
       "Text(0.5, 1.0, 'Rainfall Distribution Graph for City Y')"
      ]
     },
     "execution_count": 61,
     "metadata": {},
     "output_type": "execute_result"
    },
    {
     "data": {
      "image/png": "[encoded data removed]",
      "text/plain": [
       "<Figure size 432x288 with 1 Axes>"
      ]
     },
     "metadata": {
      "needs_background": "light"
     },
     "output_type": "display_data"
    }
   ],
   "source": [
    "plt.bar(num, y, label='City y', color='r', linewidth=0.8)\n",
    "plt.legend()\n",
    "plt.xlabel('Months')\n",
    "plt.ylabel('Rainfall (in mm)')\n",
    "plt.title('Rainfall Distribution Graph for City Y')"
   ]
  },
  {
   "cell_type": "code",
   "execution_count": 60,
   "metadata": {},
   "outputs": [
    {
     "data": {
      "text/plain": [
       "Text(0.5, 1.0, 'Rainfall Distribution Graph for City Z')"
      ]
     },
     "execution_count": 60,
     "metadata": {},
     "output_type": "execute_result"
    },
    {
     "data": {
      "image/png": "[encoded data removed]",
      "text/plain": [
       "<Figure size 432x288 with 1 Axes>"
      ]
     },
     "metadata": {
      "needs_background": "light"
     },
     "output_type": "display_data"
    }
   ],
   "source": [
    "plt.bar(num, z, label='City z', color='m', linewidth=0.8)\n",
    "plt.legend()\n",
    "plt.xlabel('Months')\n",
    "plt.ylabel('Rainfall (in mm)')\n",
    "plt.title('Rainfall Distribution Graph for City Z')"
   ]
  },
  {
   "cell_type": "code",
   "execution_count": null,
   "metadata": {},
   "outputs": [],
   "source": []
  }
 ],
 "metadata": {
  "kernelspec": {
   "display_name": "Python 3",
   "language": "python",
   "name": "python3"
  },
  "language_info": {
   "codemirror_mode": {
    "name": "ipython",
    "version": 3
   },
   "file_extension": ".py",
   "mimetype": "text/x-python",
   "name": "python",
   "nbconvert_exporter": "python",
   "pygments_lexer": "ipython3",
   "version": "3.7.3"
  }
 },
 "nbformat": 4,
 "nbformat_minor": 2
}
